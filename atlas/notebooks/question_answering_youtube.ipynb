{
 "cells": [
  {
   "attachments": {},
   "cell_type": "markdown",
   "metadata": {},
   "source": [
    "# Answer Questions using Youtube\n",
    "\n",
    "This notebook shows how to give long-form answers to questions using information found on Youtube.\n",
    "\n",
    "Inspired by [Abstractive Question Answering](https://docs.pinecone.io/docs/abstractive-question-answering) and [Long Form Question Answering in Haystack](https://www.pinecone.io/learn/haystack-lfqa/).\n",
    "\n",
    "This tutorial builds on the previous tutorial, Create an Atlas service[todo add link], that showed how to index Youtube videos and return matching sections of a video given a search term. \n",
    "\n",
    "This tutorial will be covering how to take those matching sections and combine them together to generate a long-form answer.\n",
    "\n",
    "At a high-level it is a 2 step process:\n",
    "\n",
    "1. Find sentences that have the relevant sections\n",
    "\n",
    "2. Combine the sections together to form a coherent answer"
   ]
  },
  {
   "attachments": {},
   "cell_type": "markdown",
   "metadata": {},
   "source": [
    "## Get Relevant Context\n",
    "\n",
    "First we are going to send a query \"best exercises for longevity\" and it will return all the videos that are related to the topics, exercise and longevity."
   ]
  },
  {
   "cell_type": "code",
   "execution_count": 4,
   "metadata": {},
   "outputs": [
    {
     "name": "stdout",
     "output_type": "stream",
     "text": [
      "Requirement already satisfied: pinecone-client in /Users/tomiwa/Desktop/tomiwa/code/atila/atila-core-service/venv/lib/python3.9/site-packages (2.0.13)\n",
      "Requirement already satisfied: requests in /Users/tomiwa/Desktop/tomiwa/code/atila/atila-core-service/venv/lib/python3.9/site-packages (2.28.1)\n",
      "Requirement already satisfied: loguru>=0.5.0 in /Users/tomiwa/Desktop/tomiwa/code/atila/atila-core-service/venv/lib/python3.9/site-packages (from pinecone-client) (0.6.0)\n",
      "Requirement already satisfied: typing-extensions>=3.7.4 in /Users/tomiwa/Desktop/tomiwa/code/atila/atila-core-service/venv/lib/python3.9/site-packages (from pinecone-client) (4.4.0)\n",
      "Requirement already satisfied: python-dateutil>=2.5.3 in /Users/tomiwa/Desktop/tomiwa/code/atila/atila-core-service/venv/lib/python3.9/site-packages (from pinecone-client) (2.8.2)\n",
      "Requirement already satisfied: dnspython>=2.0.0 in /Users/tomiwa/Desktop/tomiwa/code/atila/atila-core-service/venv/lib/python3.9/site-packages (from pinecone-client) (2.2.1)\n",
      "Requirement already satisfied: pyyaml>=5.4 in /Users/tomiwa/Desktop/tomiwa/code/atila/atila-core-service/venv/lib/python3.9/site-packages (from pinecone-client) (6.0)\n",
      "Requirement already satisfied: urllib3>=1.21.1 in /Users/tomiwa/Desktop/tomiwa/code/atila/atila-core-service/venv/lib/python3.9/site-packages (from pinecone-client) (1.26.13)\n",
      "Requirement already satisfied: charset-normalizer<3,>=2 in /Users/tomiwa/Desktop/tomiwa/code/atila/atila-core-service/venv/lib/python3.9/site-packages (from requests) (2.1.1)\n",
      "Requirement already satisfied: certifi>=2017.4.17 in /Users/tomiwa/Desktop/tomiwa/code/atila/atila-core-service/venv/lib/python3.9/site-packages (from requests) (2022.12.7)\n",
      "Requirement already satisfied: idna<4,>=2.5 in /Users/tomiwa/Desktop/tomiwa/code/atila/atila-core-service/venv/lib/python3.9/site-packages (from requests) (3.4)\n",
      "Requirement already satisfied: six>=1.5 in /Users/tomiwa/Desktop/tomiwa/code/atila/atila-core-service/venv/lib/python3.9/site-packages (from python-dateutil>=2.5.3->pinecone-client) (1.16.0)\n",
      "Note: you may need to restart the kernel to use updated packages.\n"
     ]
    }
   ],
   "source": [
    "%pip install pinecone-client requests"
   ]
  },
  {
   "attachments": {},
   "cell_type": "markdown",
   "metadata": {},
   "source": [
    "## Get API Keys\n",
    "\n",
    "1. You will need a [Pinecone API key (free)](https://app.pinecone.io/).\n",
    "2. Deploy [this model](https://huggingface.co/tomiwa1a/openai-whisper-endpoint) as an inference endpoint."
   ]
  },
  {
   "cell_type": "code",
   "execution_count": 2,
   "metadata": {},
   "outputs": [],
   "source": [
    "from getpass import getpass\n",
    "# getpass tip: https://stackoverflow.com/a/54577734/5405197\n",
    "PINECONE_API_KEY = getpass('Enter PINECONE_API_KEY')\n",
    "HUGGING_FACE_API_KEY = getpass('Enter HUGGING_FACE_API_KEY')\n",
    "# replace this with your HUGGING_FACE_ENDPOINT_URL\n",
    "HUGGING_FACE_ENDPOINT_URL = \"https://rl2hxotyspedkt19.us-east-1.aws.endpoints.huggingface.cloud\""
   ]
  },
  {
   "cell_type": "code",
   "execution_count": 5,
   "metadata": {},
   "outputs": [],
   "source": [
    "import requests\n",
    "import pinecone\n",
    "import json\n",
    "from typing import Union\n",
    "\n",
    "pinecone_index_id = \"youtube-search\"\n",
    "\n",
    "pinecone.init(\n",
    "    api_key=PINECONE_API_KEY,\n",
    "    environment=\"us-west1-gcp\"\n",
    ")\n",
    "\n",
    "def send_encoding_request(query: Union[str, list]):\n",
    "    payload = json.dumps({\n",
    "        \"inputs\": \"\",  # inputs key is not used but our endpoint expects it\n",
    "        \"query\": query,\n",
    "    })\n",
    "    headers = {\n",
    "        'Authorization': f'Bearer {HUGGING_FACE_API_KEY}',\n",
    "        'Content-Type': 'application/json'\n",
    "    }\n",
    "\n",
    "    response = requests.request(\"POST\", HUGGING_FACE_ENDPOINT_URL, headers=headers, data=payload)\n",
    "    return response.json()\n",
    "\n",
    "pinecone_index = pinecone.Index(pinecone_index_id)\n",
    "def query_model(query, video_id=\"\"):\n",
    "    encoded_query = send_encoding_request(query)\n",
    "    metadata_filter = {\"video_id\": {\"$eq\": video_id}} if video_id else None\n",
    "    vectors = encoded_query['encoded_segments'][0]['vectors']\n",
    "    return pinecone_index.query(vectors, top_k=5,\n",
    "                                include_metadata=True,\n",
    "                                filter=metadata_filter).to_dict()"
   ]
  },
  {
   "cell_type": "code",
   "execution_count": 8,
   "metadata": {},
   "outputs": [
    {
     "data": {
      "text/plain": [
       "{'id': '92kYDVjX0G0-t11',\n",
       " 'score': 24.5990486,\n",
       " 'values': [],\n",
       " 'sparseValues': {},\n",
       " 'metadata': {'duration': 13.0,\n",
       "  'end': 24.0,\n",
       "  'id': '92kYDVjX0G0-t11',\n",
       "  'length': 371.0,\n",
       "  'start': 11.0,\n",
       "  'text': \"living longer what do I need to do it's it's like a super well crafted exercise program that is geared towards strength muscle mass and cardiorespiratory Fitness so it's all\",\n",
       "  'thumbnail': 'https://i.ytimg.com/vi/92kYDVjX0G0/sddefault.jpg',\n",
       "  'title': 'Peter Attia on The Best Exercises for Longevity',\n",
       "  'url': 'https://www.youtube.com/watch?v=92kYDVjX0G0&t=11',\n",
       "  'video_id': '92kYDVjX0G0',\n",
       "  'views': 2955787.0}}"
      ]
     },
     "execution_count": 8,
     "metadata": {},
     "output_type": "execute_result"
    }
   ],
   "source": [
    "results = query_model(\"best exercises for longevity\")\n",
    "results['matches'][3]"
   ]
  },
  {
   "cell_type": "code",
   "execution_count": null,
   "metadata": {},
   "outputs": [],
   "source": []
  }
 ],
 "metadata": {
  "kernelspec": {
   "display_name": "venv",
   "language": "python",
   "name": "python3"
  },
  "language_info": {
   "codemirror_mode": {
    "name": "ipython",
    "version": 3
   },
   "file_extension": ".py",
   "mimetype": "text/x-python",
   "name": "python",
   "nbconvert_exporter": "python",
   "pygments_lexer": "ipython3",
   "version": "3.9.6"
  },
  "orig_nbformat": 4,
  "vscode": {
   "interpreter": {
    "hash": "99e086eccb441fa1228dffc6d0e819d43cb52e5c644083572317aeec389d6017"
   }
  }
 },
 "nbformat": 4,
 "nbformat_minor": 2
}
