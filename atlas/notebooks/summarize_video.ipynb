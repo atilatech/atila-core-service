{
 "cells": [
  {
   "attachments": {},
   "cell_type": "markdown",
   "metadata": {},
   "source": [
    "# Summarize Video\n",
    "\n",
    "This notebook shows how to summarize a long piece of text representing a video transcript.\n",
    "\n",
    "<a href=\"https://colab.research.google.com/github/atilatech/atila-core-service/blob/summarize_video/atlas/notebooks/summarize_video.ipynb\" target=\"_blank\"><img src=\"https://colab.research.google.com/assets/colab-badge.svg\" alt=\"Open In Colab\"/></a>"
   ]
  }
 ],
 "metadata": {
  "language_info": {
   "name": "python"
  },
  "orig_nbformat": 4
 },
 "nbformat": 4,
 "nbformat_minor": 2
}
